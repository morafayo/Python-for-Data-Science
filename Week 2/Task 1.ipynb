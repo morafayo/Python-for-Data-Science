{
 "cells": [
  {
   "cell_type": "code",
   "execution_count": 1,
   "id": "511fbde8",
   "metadata": {},
   "outputs": [
    {
     "name": "stdout",
     "output_type": "stream",
     "text": [
      "Please enter your birth year e.g 1990: 1981\n",
      "\n",
      "Enter the current year e.g 2023: 2023\n",
      "\n",
      "your age is: 42\n"
     ]
    }
   ],
   "source": [
    "#This program calculate the age of a person\n",
    "birth_year = int(input(\"Please enter your birth year e.g 1990: \"))\n",
    "current_year = int(input(\"\\nEnter the current year e.g 2023: \"))\n",
    "age = current_year - birth_year\n",
    "print(\"\\nyour age is: \" + str(age))"
   ]
  },
  {
   "cell_type": "code",
   "execution_count": 3,
   "id": "1d8a80e6",
   "metadata": {},
   "outputs": [
    {
     "ename": "IndentationError",
     "evalue": "expected an indented block after function definition on line 2 (775944989.py, line 3)",
     "output_type": "error",
     "traceback": [
      "\u001b[1;36m  Cell \u001b[1;32mIn[3], line 3\u001b[1;36m\u001b[0m\n\u001b[1;33m    area = 0.5 * base * height\u001b[0m\n\u001b[1;37m    ^\u001b[0m\n\u001b[1;31mIndentationError\u001b[0m\u001b[1;31m:\u001b[0m expected an indented block after function definition on line 2\n"
     ]
    }
   ],
   "source": [
    "#write a program that accepts parameter and calculate the area of a traingle\n",
    "area = 0.5 * base * height\n",
    "b = 20\n",
    "h = 6\n",
    "base = float(input(\"Enter the base of a traingle: \"))\n",
    "height = float(input(\"Enter the height of the triangle \"))"
   ]
  },
  {
   "cell_type": "code",
   "execution_count": null,
   "id": "88111b0f",
   "metadata": {},
   "outputs": [],
   "source": []
  },
  {
   "cell_type": "code",
   "execution_count": 11,
   "id": "83939ad4",
   "metadata": {},
   "outputs": [
    {
     "name": "stdout",
     "output_type": "stream",
     "text": [
      "Enter the base of a traingle: 10\n",
      "Enter the height of the triangle: 5\n",
      "\n",
      "your area is: 25.0\n"
     ]
    }
   ],
   "source": [
    "#write a program that accepts parameter and calculate the area of a traingle\n",
    "b = float(input(\"Enter the base of a traingle: \"))\n",
    "h = float(input(\"Enter the height of the triangle: \"))\n",
    "area = 0.5 * b * h\n",
    "print(\"\\nyour area is: \" + str(area))"
   ]
  },
  {
   "cell_type": "code",
   "execution_count": null,
   "id": "5a5a2fdc",
   "metadata": {},
   "outputs": [],
   "source": []
  },
  {
   "cell_type": "code",
   "execution_count": null,
   "id": "36fb6280",
   "metadata": {},
   "outputs": [],
   "source": []
  }
 ],
 "metadata": {
  "kernelspec": {
   "display_name": "Python 3 (ipykernel)",
   "language": "python",
   "name": "python3"
  },
  "language_info": {
   "codemirror_mode": {
    "name": "ipython",
    "version": 3
   },
   "file_extension": ".py",
   "mimetype": "text/x-python",
   "name": "python",
   "nbconvert_exporter": "python",
   "pygments_lexer": "ipython3",
   "version": "3.10.9"
  }
 },
 "nbformat": 4,
 "nbformat_minor": 5
}

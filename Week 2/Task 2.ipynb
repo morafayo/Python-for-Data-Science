{
 "cells": [
  {
   "cell_type": "code",
   "execution_count": 1,
   "id": "5ec8db4f",
   "metadata": {},
   "outputs": [
    {
     "name": "stdout",
     "output_type": "stream",
     "text": [
      "0\n",
      "1\n",
      "2\n",
      "3\n",
      "4\n",
      "5\n",
      "6\n",
      "7\n",
      "8\n",
      "9\n"
     ]
    }
   ],
   "source": [
    "#using built-in functions\n",
    "number_range = range(10)\n",
    "for i in number_range:\n",
    "    print(i)\n",
    "    "
   ]
  },
  {
   "cell_type": "code",
   "execution_count": 6,
   "id": "87404fdd",
   "metadata": {},
   "outputs": [
    {
     "name": "stdout",
     "output_type": "stream",
     "text": [
      "2\n",
      "4\n",
      "6\n",
      "8\n",
      "10\n",
      "12\n",
      "14\n",
      "16\n",
      "18\n",
      "20\n"
     ]
    }
   ],
   "source": [
    "number_range = range(2,22,2)\n",
    "for i in number_range:\n",
    "    print(i)"
   ]
  },
  {
   "cell_type": "code",
   "execution_count": 9,
   "id": "2490b66e",
   "metadata": {},
   "outputs": [
    {
     "name": "stdout",
     "output_type": "stream",
     "text": [
      "[20, 30, 35, 40]\n",
      "40\n",
      "20\n"
     ]
    }
   ],
   "source": [
    "#List\n",
    "sam = [20,30,35,40]\n",
    "print(sam)\n",
    "sam_max_score = max(sam)\n",
    "print(sam_max_score)\n",
    "sam_min_score = min(sam)\n",
    "print(sam_min_score)\n"
   ]
  },
  {
   "cell_type": "code",
   "execution_count": 11,
   "id": "da8afd0c",
   "metadata": {},
   "outputs": [
    {
     "name": "stdout",
     "output_type": "stream",
     "text": [
      "[20, 30, 35, 40]\n",
      "Sam max score is 40\n",
      "Sam min score is 20\n"
     ]
    }
   ],
   "source": [
    "#List\n",
    "sam = [20,30,35,40]\n",
    "print(sam)\n",
    "sam_max_score = max(sam)\n",
    "print(\"Sam max score is \" + str(sam_max_score))\n",
    "sam_min_score = min(sam)\n",
    "print(\"Sam min score is \" + str(sam_min_score))"
   ]
  },
  {
   "cell_type": "code",
   "execution_count": 13,
   "id": "09615efa",
   "metadata": {},
   "outputs": [
    {
     "name": "stdout",
     "output_type": "stream",
     "text": [
      "[20, 30, 35, 40]\n",
      "Sam max score is 40\n",
      "Sam min score is 20\n",
      "Sam total score is 125\n"
     ]
    }
   ],
   "source": [
    "#List Sum fxn\n",
    "sam = [20,30,35,40]\n",
    "print(sam)\n",
    "sam_max_score = max(sam)\n",
    "print(\"Sam max score is \" + str(sam_max_score))\n",
    "sam_min_score = min(sam)\n",
    "print(\"Sam min score is \" + str(sam_min_score))\n",
    "sam_sum_score = sum(sam)\n",
    "print(\"Sam total score is \" + str(sam_sum_score))\n"
   ]
  },
  {
   "cell_type": "code",
   "execution_count": 15,
   "id": "ff159a23",
   "metadata": {},
   "outputs": [
    {
     "name": "stdout",
     "output_type": "stream",
     "text": [
      "[20, 30, 35, 40]\n",
      "Sam max score is 40\n",
      "Sam min score is 20\n",
      "Sam total score is 125\n",
      "Number of subject taken 4\n"
     ]
    }
   ],
   "source": [
    "#List Len fxn\n",
    "sam = [20,30,35,40]\n",
    "print(sam)\n",
    "\n",
    "sam_max_score = max(sam)\n",
    "print(\"Sam max score is \" + str(sam_max_score))\n",
    "\n",
    "sam_min_score = min(sam)\n",
    "print(\"Sam min score is \" + str(sam_min_score))\n",
    "\n",
    "sam_sum_score = sum(sam)\n",
    "print(\"Sam total score is \" + str(sam_sum_score))\n",
    "\n",
    "no_of_subjects = len(sam)\n",
    "print(\"Number of subject taken \" + str(no_of_subjects))\n"
   ]
  },
  {
   "cell_type": "code",
   "execution_count": 2,
   "id": "ccc19f75",
   "metadata": {},
   "outputs": [
    {
     "name": "stdout",
     "output_type": "stream",
     "text": [
      "hello world\n",
      "HELLO WORLD\n",
      "hELLO wORLD\n",
      "Morayo,Ejike,Anuoluwa,Esther,Morafa\n",
      "<class 'str'>\n",
      "Morayo,Ejike,Anuoluwa,Esther,Morafa\n",
      "<class 'list'>\n",
      "['Morayo', 'Ejike', 'Anuoluwa', 'Esther', 'Morafa']\n",
      "<class 'str'>\n",
      "Morayo,Ejike,Anuoluwa,Esther,Morafa\n",
      "Morayo-Ejike-Anuoluwa-Esther-Morafa\n"
     ]
    }
   ],
   "source": [
    "#common built-in string functions\n",
    "text_a = \"Hello World\"\n",
    "text_a_lower = text_a.lower()\n",
    "print(text_a_lower)\n",
    "\n",
    "text_a_upper = text_a.upper()\n",
    "print(text_a_upper)\n",
    "\n",
    "text_a_swapcase = text_a.swapcase()\n",
    "print(text_a_swapcase)\n",
    "\n",
    "text_b = \"Morayo,Ejike,Anuoluwa,Esther,Morafa\"\n",
    "print(text_b)\n",
    "\n",
    "text_b = \"Morayo,Ejike,Anuoluwa,Esther,Morafa\"\n",
    "print(type(text_b))\n",
    "print(text_b)\n",
    "\n",
    "#splitting a string\n",
    "split_text_b = text_b.split(',')\n",
    "print(type(split_text_b))\n",
    "print(split_text_b)\n",
    "\n",
    "#converting a list to string using join fxn\n",
    "joined_text_b = \",\".join(split_text_b)\n",
    "print(type(joined_text_b))\n",
    "print(joined_text_b)\n",
    "\n",
    "#using the replace function\n",
    "replace_text_b = text_b.replace(',','-')\n",
    "print(replace_text_b)\n",
    "\n"
   ]
  },
  {
   "cell_type": "code",
   "execution_count": 8,
   "id": "5c33c191",
   "metadata": {},
   "outputs": [
    {
     "name": "stdout",
     "output_type": "stream",
     "text": [
      "Door window - Watch clock - Laptop Desktop\n"
     ]
    }
   ],
   "source": [
    "#class work-format the following text\n",
    "text_c = \"Door window ; Watch clock ; Laptop Desktop\"\n",
    "replace_text_c = text_c.replace(';','-')\n",
    "print(replace_text_c)\n"
   ]
  },
  {
   "cell_type": "code",
   "execution_count": null,
   "id": "2f3fc2d0",
   "metadata": {},
   "outputs": [],
   "source": []
  },
  {
   "cell_type": "code",
   "execution_count": null,
   "id": "e9a73651",
   "metadata": {},
   "outputs": [],
   "source": []
  }
 ],
 "metadata": {
  "kernelspec": {
   "display_name": "Python 3 (ipykernel)",
   "language": "python",
   "name": "python3"
  },
  "language_info": {
   "codemirror_mode": {
    "name": "ipython",
    "version": 3
   },
   "file_extension": ".py",
   "mimetype": "text/x-python",
   "name": "python",
   "nbconvert_exporter": "python",
   "pygments_lexer": "ipython3",
   "version": "3.10.9"
  }
 },
 "nbformat": 4,
 "nbformat_minor": 5
}

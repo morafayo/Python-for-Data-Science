{
 "cells": [
  {
   "cell_type": "code",
   "execution_count": 2,
   "id": "076fc351",
   "metadata": {},
   "outputs": [
    {
     "ename": "SyntaxError",
     "evalue": "expected ':' (3453036692.py, line 3)",
     "output_type": "error",
     "traceback": [
      "\u001b[1;36m  Cell \u001b[1;32mIn[2], line 3\u001b[1;36m\u001b[0m\n\u001b[1;33m    for i in range(1,21)\u001b[0m\n\u001b[1;37m                        ^\u001b[0m\n\u001b[1;31mSyntaxError\u001b[0m\u001b[1;31m:\u001b[0m expected ':'\n"
     ]
    }
   ],
   "source": [
    "#square numbers btw 1 and 20 and Print the out\n",
    "squares_list = []\n",
    "for i in range(1,21):\n",
    "    if i%2 == 0:\n",
    "        if i%5 == 0:\n",
    "            squares_list\n"
   ]
  },
  {
   "cell_type": "code",
   "execution_count": 5,
   "id": "3da9097e",
   "metadata": {},
   "outputs": [
    {
     "name": "stdout",
     "output_type": "stream",
     "text": [
      "23\n"
     ]
    }
   ],
   "source": [
    "#Using dictionary statement\n",
    "my_dictionary = {'Name':'Jane', 'Age': 23, 'Sex': 'Female'}\n",
    "print(my_dictionary['Age'])"
   ]
  },
  {
   "cell_type": "code",
   "execution_count": 6,
   "id": "b6573f68",
   "metadata": {},
   "outputs": [
    {
     "name": "stdout",
     "output_type": "stream",
     "text": [
      "{'Name': 'Jane', 'Age': 21, 'Sex': 'Female'}\n"
     ]
    }
   ],
   "source": [
    "my_dictionary['Age'] = 21\n",
    "print(my_dictionary)"
   ]
  },
  {
   "cell_type": "code",
   "execution_count": 10,
   "id": "ea78dda4",
   "metadata": {},
   "outputs": [
    {
     "name": "stdout",
     "output_type": "stream",
     "text": [
      "{'Name': 'Jane', 'Age': 21, 'Sex': 'Female', 'Subjects': ['Geography', 'Maths', 'English', 'Biology']}\n"
     ]
    }
   ],
   "source": [
    "my_dictionary['Subjects'] = ['Geography', 'Maths', 'English', 'Biology']\n",
    "print(my_dictionary)"
   ]
  },
  {
   "cell_type": "code",
   "execution_count": 11,
   "id": "edbad7af",
   "metadata": {},
   "outputs": [
    {
     "name": "stdout",
     "output_type": "stream",
     "text": [
      "{'Name': 'Jane', 'Age': 21, 'Subjects': ['Geography', 'Maths', 'English', 'Biology']}\n"
     ]
    }
   ],
   "source": [
    "del my_dictionary['Sex']\n",
    "print( my_dictionary)"
   ]
  },
  {
   "cell_type": "code",
   "execution_count": 12,
   "id": "7f4177f9",
   "metadata": {},
   "outputs": [
    {
     "name": "stdout",
     "output_type": "stream",
     "text": [
      "{'Name': 'Jane', 'Age': 21, 'Sex': 'Female', 'Subjects': ['Geography', 'Maths', 'English', 'Biology']}\n"
     ]
    }
   ],
   "source": [
    "my_dictionary = {'Name': 'Jane', 'Age': 21, 'Sex': 'Female', 'Subjects': ['Geography', 'Maths', 'English', 'Biology']}\n",
    "print( my_dictionary)"
   ]
  },
  {
   "cell_type": "code",
   "execution_count": 13,
   "id": "7da87c66",
   "metadata": {},
   "outputs": [
    {
     "name": "stdout",
     "output_type": "stream",
     "text": [
      "dict_keys(['Name', 'Age', 'Sex', 'Subjects'])\n"
     ]
    }
   ],
   "source": [
    "dict_keys = my_dictionary.keys()\n",
    "print(dict_keys)"
   ]
  },
  {
   "cell_type": "code",
   "execution_count": 14,
   "id": "cf8a0370",
   "metadata": {},
   "outputs": [
    {
     "name": "stdout",
     "output_type": "stream",
     "text": [
      "dict_values(['Jane', 21, 'Female', ['Geography', 'Maths', 'English', 'Biology']])\n"
     ]
    }
   ],
   "source": [
    "dict_values = my_dictionary.values()\n",
    "print(dict_values)"
   ]
  },
  {
   "cell_type": "code",
   "execution_count": 16,
   "id": "35808933",
   "metadata": {},
   "outputs": [
    {
     "name": "stdout",
     "output_type": "stream",
     "text": [
      "{'Name': 'Jane', 'Sex': 'Female', 'Subjects': ['Geography', 'Maths', 'English', 'Biology']}\n"
     ]
    }
   ],
   "source": [
    "my_dictionary.pop('Age')\n",
    "print(my_dictionary)"
   ]
  },
  {
   "cell_type": "code",
   "execution_count": 17,
   "id": "84341299",
   "metadata": {},
   "outputs": [
    {
     "name": "stdout",
     "output_type": "stream",
     "text": [
      "dict_items([('Name', 'Jane'), ('Sex', 'Female'), ('Subjects', ['Geography', 'Maths', 'English', 'Biology'])])\n"
     ]
    }
   ],
   "source": [
    "dict_items = my_dictionary.items()\n",
    "print(dict_items)"
   ]
  },
  {
   "cell_type": "code",
   "execution_count": 19,
   "id": "2865b9f6",
   "metadata": {},
   "outputs": [
    {
     "name": "stdout",
     "output_type": "stream",
     "text": [
      "Jane\n",
      "Jane\n"
     ]
    }
   ],
   "source": [
    "name = my_dictionary.get('Name')\n",
    "name2 = my_dictionary['Name']\n",
    "print(name)\n",
    "print(name2)"
   ]
  },
  {
   "cell_type": "code",
   "execution_count": 20,
   "id": "278a6438",
   "metadata": {},
   "outputs": [
    {
     "name": "stdout",
     "output_type": "stream",
     "text": [
      "{'Name': 'Jane', 'Sex': 'Female', 'Subjects': ['Geography', 'Maths', 'English', 'Biology']}\n",
      "{'Name': 'Jane', 'Sex': 'Female'}\n"
     ]
    }
   ],
   "source": [
    "print(my_dictionary)\n",
    "my_dictionary.popitem()\n",
    "print(my_dictionary)"
   ]
  },
  {
   "cell_type": "code",
   "execution_count": null,
   "id": "bcdcdc59",
   "metadata": {},
   "outputs": [],
   "source": []
  }
 ],
 "metadata": {
  "kernelspec": {
   "display_name": "Python 3 (ipykernel)",
   "language": "python",
   "name": "python3"
  },
  "language_info": {
   "codemirror_mode": {
    "name": "ipython",
    "version": 3
   },
   "file_extension": ".py",
   "mimetype": "text/x-python",
   "name": "python",
   "nbconvert_exporter": "python",
   "pygments_lexer": "ipython3",
   "version": "3.10.9"
  }
 },
 "nbformat": 4,
 "nbformat_minor": 5
}

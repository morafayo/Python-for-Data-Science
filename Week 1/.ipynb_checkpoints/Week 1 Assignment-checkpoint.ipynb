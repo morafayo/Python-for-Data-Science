{
 "cells": [
  {
   "cell_type": "code",
   "execution_count": 3,
   "id": "914741ed",
   "metadata": {},
   "outputs": [
    {
     "name": "stdout",
     "output_type": "stream",
     "text": [
      "21\n"
     ]
    }
   ],
   "source": [
    "#Write a program that sums a and b\n",
    "a = 5\n",
    "b = 16\n",
    "sum = a + b\n",
    "print (a + b)"
   ]
  },
  {
   "cell_type": "code",
   "execution_count": 4,
   "id": "08e8f09a",
   "metadata": {},
   "outputs": [
    {
     "name": "stdout",
     "output_type": "stream",
     "text": [
      "21\n"
     ]
    }
   ],
   "source": [
    "#Write a program that sums a and b\n",
    "a = 5\n",
    "b = 16\n",
    "print (a + b)"
   ]
  },
  {
   "cell_type": "code",
   "execution_count": 5,
   "id": "7598bd7e",
   "metadata": {},
   "outputs": [
    {
     "name": "stdout",
     "output_type": "stream",
     "text": [
      "Emter a number: 5\n",
      "print the cube of is 125\n"
     ]
    }
   ],
   "source": [
    "#Write a python program to take a number from the user as input and print the cube of the number.\n",
    "num = int(input(\"Emter a number: \"))\n",
    "cube = num ** 3\n",
    "print(\"print the cube of\", \"is\", cube)"
   ]
  },
  {
   "cell_type": "code",
   "execution_count": null,
   "id": "d089176f",
   "metadata": {},
   "outputs": [],
   "source": []
  }
 ],
 "metadata": {
  "kernelspec": {
   "display_name": "Python 3 (ipykernel)",
   "language": "python",
   "name": "python3"
  },
  "language_info": {
   "codemirror_mode": {
    "name": "ipython",
    "version": 3
   },
   "file_extension": ".py",
   "mimetype": "text/x-python",
   "name": "python",
   "nbconvert_exporter": "python",
   "pygments_lexer": "ipython3",
   "version": "3.10.9"
  }
 },
 "nbformat": 4,
 "nbformat_minor": 5
}

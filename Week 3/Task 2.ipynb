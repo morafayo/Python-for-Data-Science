{
 "cells": [
  {
   "cell_type": "code",
   "execution_count": 1,
   "id": "a07f59e3",
   "metadata": {},
   "outputs": [
    {
     "name": "stdout",
     "output_type": "stream",
     "text": [
      "1 square = 1\n",
      "2 square = 4\n",
      "3 square = 9\n",
      "4 square = 16\n",
      "5 square = 25\n",
      "6 square = 36\n",
      "7 square = 49\n",
      "8 square = 64\n",
      "9 square = 81\n"
     ]
    }
   ],
   "source": [
    "#using break statemet for loop\n",
    "for number in range (1,21):\n",
    "    if number == 10:\n",
    "        break\n",
    "    else:\n",
    "        print(number, 'square =', number**2)"
   ]
  },
  {
   "cell_type": "code",
   "execution_count": 2,
   "id": "e1365592",
   "metadata": {},
   "outputs": [
    {
     "name": "stdout",
     "output_type": "stream",
     "text": [
      "1 square = 1\n",
      "2 square = 4\n",
      "3 square = 9\n",
      "4 square = 16\n",
      "5 square = 25\n",
      "6 square = 36\n",
      "7 square = 49\n",
      "8 square = 64\n",
      "9 square = 81\n",
      "11 square = 121\n",
      "12 square = 144\n",
      "13 square = 169\n",
      "14 square = 196\n",
      "15 square = 225\n",
      "16 square = 256\n",
      "17 square = 289\n",
      "18 square = 324\n",
      "19 square = 361\n",
      "20 square = 400\n"
     ]
    }
   ],
   "source": [
    "#using continue statement for loop\n",
    "for number in range (1,21):\n",
    "    if number == 10:\n",
    "        continue\n",
    "    else:\n",
    "        print(number, 'square =', number**2)"
   ]
  },
  {
   "cell_type": "code",
   "execution_count": 5,
   "id": "4c8ca55e",
   "metadata": {},
   "outputs": [
    {
     "name": "stdout",
     "output_type": "stream",
     "text": [
      "[57.14285714285714, 64.28571428571429, 71.42857142857143, 85.71428571428571]\n"
     ]
    }
   ],
   "source": [
    "#add additional to student scores and calculating percentage\n",
    "scores = [30, 35, 40, 50]\n",
    "upgraded_scores = [((x+10)/70) * 100 for x in scores]\n",
    "print(upgraded_scores)"
   ]
  },
  {
   "cell_type": "code",
   "execution_count": 7,
   "id": "80197321",
   "metadata": {},
   "outputs": [
    {
     "name": "stdout",
     "output_type": "stream",
     "text": [
      "[1, 4, 9, 16, 25, 36, 49, 64, 81, 100, 121, 144, 169, 196, 225]\n"
     ]
    }
   ],
   "source": [
    "#Using list comprehension, create a list that consists of the square of numbers in the range(1,16)\n",
    "\n",
    "squares = [i**2 for i in range(1,16)]\n",
    "print(squares)"
   ]
  },
  {
   "cell_type": "code",
   "execution_count": null,
   "id": "0dc20cea",
   "metadata": {},
   "outputs": [],
   "source": []
  }
 ],
 "metadata": {
  "kernelspec": {
   "display_name": "Python 3 (ipykernel)",
   "language": "python",
   "name": "python3"
  },
  "language_info": {
   "codemirror_mode": {
    "name": "ipython",
    "version": 3
   },
   "file_extension": ".py",
   "mimetype": "text/x-python",
   "name": "python",
   "nbconvert_exporter": "python",
   "pygments_lexer": "ipython3",
   "version": "3.10.9"
  }
 },
 "nbformat": 4,
 "nbformat_minor": 5
}

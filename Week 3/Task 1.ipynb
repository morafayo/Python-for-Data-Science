{
 "cells": [
  {
   "cell_type": "code",
   "execution_count": 2,
   "id": "7cc89503",
   "metadata": {},
   "outputs": [
    {
     "name": "stdout",
     "output_type": "stream",
     "text": [
      "input a phrase: Oluwatoyin\n",
      "Olu\n"
     ]
    }
   ],
   "source": [
    "#write a program that accepts a string input and print out the first 3 characters\n",
    "str_word = input('input a phrase: ')\n",
    "print(str_word[0:3])\n"
   ]
  },
  {
   "cell_type": "code",
   "execution_count": 3,
   "id": "85811977",
   "metadata": {},
   "outputs": [
    {
     "name": "stdout",
     "output_type": "stream",
     "text": [
      "how\n"
     ]
    }
   ],
   "source": [
    "str_iterable = ('how far with you')\n",
    "print(str_iterable[0:3])"
   ]
  },
  {
   "cell_type": "code",
   "execution_count": 11,
   "id": "ab5506a0",
   "metadata": {},
   "outputs": [
    {
     "name": "stdout",
     "output_type": "stream",
     "text": [
      "Enter the student score: 120\n",
      "The student grade is A+ - EXTRAORDINARY\n"
     ]
    }
   ],
   "source": [
    "#grading student scores\n",
    "score = float(input('Enter the student score: '))\n",
    "if score < 40:\n",
    "    print('The student is F - FAIL')\n",
    "elif score <= 49 and score >= 40:\n",
    "    print('The student is D - FAIR')\n",
    "elif score <= 59 and score >= 50:\n",
    "    print('The student is C - GOOD')\n",
    "elif score <= 69 and score >= 60:\n",
    "    print('The student is B - VERY GOOD')\n",
    "elif score >= 70 and score <=100:\n",
    "    print('The student is  - EXCELLENT')\n",
    "else:\n",
    "    print('The student grade is A+ - EXTRAORDINARY')"
   ]
  },
  {
   "cell_type": "code",
   "execution_count": 12,
   "id": "db4ba7a6",
   "metadata": {},
   "outputs": [
    {
     "name": "stdout",
     "output_type": "stream",
     "text": [
      "Enter the student score: 88\n",
      "The student is  - EXCELLENT\n"
     ]
    }
   ],
   "source": [
    "score = float(input('Enter the student score: '))\n",
    "if score < 40:\n",
    "    print('The student is F - FAIL')\n",
    "elif score <= 50 and score >= 40:\n",
    "    print('The student is D - FAIR')\n",
    "elif score <= 60 and score >= 50:\n",
    "    print('The student is C - GOOD')\n",
    "elif score <= 70 and score >= 60:\n",
    "    print('The student is B - VERY GOOD')\n",
    "elif score >= 80 and score <=100:\n",
    "    print('The student is  - EXCELLENT')\n",
    "else:\n",
    "    print('The student grade is A+ - EXTRAORDINARY')"
   ]
  },
  {
   "cell_type": "code",
   "execution_count": 14,
   "id": "56985355",
   "metadata": {},
   "outputs": [
    {
     "name": "stdout",
     "output_type": "stream",
     "text": [
      "the square of 1 is = 1\n",
      "the square of 2 is = 4\n",
      "the square of 3 is = 9\n",
      "the square of 4 is = 16\n",
      "the square of 5 is = 25\n",
      "the square of 6 is = 36\n",
      "the square of 7 is = 49\n",
      "the square of 8 is = 64\n",
      "the square of 9 is = 81\n",
      "the square of 10 is = 100\n",
      "the square of 11 is = 121\n",
      "the square of 12 is = 144\n",
      "the square of 13 is = 169\n",
      "the square of 14 is = 196\n",
      "the square of 15 is = 225\n",
      "the square of 16 is = 256\n",
      "the square of 17 is = 289\n",
      "the square of 18 is = 324\n",
      "the square of 19 is = 361\n",
      "the square of 20 is = 400\n"
     ]
    }
   ],
   "source": [
    "#Write a program that squares the numbers between 1 and 20\n",
    "for number in range(1,21):\n",
    "    square = number*number\n",
    "    print('the square of', number, \"is =\" , square)"
   ]
  },
  {
   "cell_type": "code",
   "execution_count": 15,
   "id": "7e176edc",
   "metadata": {},
   "outputs": [
    {
     "name": "stdout",
     "output_type": "stream",
     "text": [
      "the cube of 1 is = 1\n",
      "the cube of 2 is = 8\n",
      "the cube of 3 is = 27\n",
      "the cube of 4 is = 64\n",
      "the cube of 5 is = 125\n",
      "the cube of 6 is = 216\n",
      "the cube of 7 is = 343\n",
      "the cube of 8 is = 512\n",
      "the cube of 9 is = 729\n",
      "the cube of 10 is = 1000\n",
      "the cube of 11 is = 1331\n",
      "the cube of 12 is = 1728\n",
      "the cube of 13 is = 2197\n",
      "the cube of 14 is = 2744\n",
      "the cube of 15 is = 3375\n",
      "the cube of 16 is = 4096\n",
      "the cube of 17 is = 4913\n",
      "the cube of 18 is = 5832\n",
      "the cube of 19 is = 6859\n",
      "the cube of 20 is = 8000\n"
     ]
    }
   ],
   "source": [
    "for number in range(1,21):\n",
    "    cube = number*number*number\n",
    "    print('the cube of', number, \"is =\" , cube)"
   ]
  },
  {
   "cell_type": "code",
   "execution_count": 17,
   "id": "a4e6f64d",
   "metadata": {},
   "outputs": [
    {
     "name": "stdout",
     "output_type": "stream",
     "text": [
      "Mango : 5\n",
      "Orange : 6\n",
      "Banana : 6\n",
      "Apple : 5\n",
      "Cashew : 6\n",
      "Pineapple : 9\n"
     ]
    }
   ],
   "source": [
    "#Loop over the list and print each item and their length\n",
    "fruits = ['Mango' , 'Orange' , 'Banana' , 'Apple', 'Cashew' , 'Pineapple']\n",
    "for fruit in fruits:\n",
    "    print(fruit, ':', len(fruit))"
   ]
  },
  {
   "cell_type": "code",
   "execution_count": 22,
   "id": "93df666e",
   "metadata": {},
   "outputs": [
    {
     "name": "stdout",
     "output_type": "stream",
     "text": [
      "The length of the list is  6\n",
      "The fruit at index 0 is Mango of length 5\n",
      "The fruit at index 1 is Orange of length 6\n",
      "The fruit at index 2 is Banana of length 6\n",
      "The fruit at index 3 is Apple of length 5\n",
      "The fruit at index 4 is Cashew of length 6\n",
      "The fruit at index 5 is Pineapple of length 9\n"
     ]
    }
   ],
   "source": [
    "fruits = ['Mango' , 'Orange' , 'Banana' , 'Apple', 'Cashew' , 'Pineapple']\n",
    "length = len(fruits)\n",
    "print('The length of the list is ', length)\n",
    "for i in range(length):\n",
    "    print('The fruit at index', i, 'is' ,fruits[i], 'of length' ,  len(fruits[i]))\n"
   ]
  },
  {
   "cell_type": "code",
   "execution_count": 25,
   "id": "5f9dd2f6",
   "metadata": {},
   "outputs": [
    {
     "name": "stdout",
     "output_type": "stream",
     "text": [
      "The fruit at index 0 is Mango of length 5\n",
      "The fruit at index 1 is Orange of length 6\n",
      "The fruit at index 2 is Banana of length 6\n",
      "The fruit at index 3 is Apple of length 5\n",
      "The fruit at index 4 is Cashew of length 6\n",
      "The fruit at index 5 is Pineapple of length 9\n"
     ]
    }
   ],
   "source": [
    "#loop over the list and print out each item and their length using while loop statement\n",
    "fruits = ['Mango' , 'Orange' , 'Banana' , 'Apple', 'Cashew' , 'Pineapple']\n",
    "length = len(fruits)\n",
    "index = 0\n",
    "while index < length:\n",
    "    print('The fruit at index' , index, 'is' , fruits[index], 'of length', len(fruits[index]))\n",
    "    index = index + 1\n"
   ]
  },
  {
   "cell_type": "code",
   "execution_count": null,
   "id": "e3fc11ed",
   "metadata": {},
   "outputs": [],
   "source": []
  }
 ],
 "metadata": {
  "kernelspec": {
   "display_name": "Python 3 (ipykernel)",
   "language": "python",
   "name": "python3"
  },
  "language_info": {
   "codemirror_mode": {
    "name": "ipython",
    "version": 3
   },
   "file_extension": ".py",
   "mimetype": "text/x-python",
   "name": "python",
   "nbconvert_exporter": "python",
   "pygments_lexer": "ipython3",
   "version": "3.10.9"
  }
 },
 "nbformat": 4,
 "nbformat_minor": 5
}
